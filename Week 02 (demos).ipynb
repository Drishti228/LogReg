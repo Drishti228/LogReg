{
 "cells": [
  {
   "cell_type": "markdown",
   "id": "225f6c00",
   "metadata": {},
   "source": [
    "### Why we vectorized version than using explicit for loops in the code? "
   ]
  },
  {
   "cell_type": "markdown",
   "id": "982fee63",
   "metadata": {},
   "source": [
    "#### Does it have a effect on time taken by the code"
   ]
  },
  {
   "cell_type": "code",
   "execution_count": 1,
   "id": "62afdfaf",
   "metadata": {},
   "outputs": [
    {
     "name": "stdout",
     "output_type": "stream",
     "text": [
      "[1 2 3 4]\n"
     ]
    }
   ],
   "source": [
    "import numpy as np\n",
    "\n",
    "a = np.array([1,2,3,4])\n",
    "print(a)"
   ]
  },
  {
   "cell_type": "code",
   "execution_count": 2,
   "id": "ea4c4bd5",
   "metadata": {
    "scrolled": true
   },
   "outputs": [
    {
     "name": "stdout",
     "output_type": "stream",
     "text": [
      "249715.68311335758\n",
      "Vectorized version:24.856090545654297ms\n",
      "249715.68311334337\n",
      "For loop:511.26813888549805ms\n"
     ]
    }
   ],
   "source": [
    "import time \n",
    "\n",
    "a = np.random.rand(1000000)\n",
    "b = np.random.rand(1000000)\n",
    "\n",
    "tic = time.time()\n",
    "c = np.dot(a,b)\n",
    "toc = time.time()\n",
    "\n",
    "print(c)\n",
    "print(\"Vectorized version:\" + str(1000*(toc-tic))+\"ms\")\n",
    "\n",
    "c = 0\n",
    "tic = time.time()\n",
    "for i in range(1000000):\n",
    "    c += a[i]*b[i]\n",
    "toc = time.time()\n",
    "\n",
    "\n",
    "print(c)\n",
    "print(\"For loop:\" + str(1000*(toc-tic))+\"ms\")"
   ]
  },
  {
   "cell_type": "markdown",
   "id": "8c17ac3d",
   "metadata": {},
   "source": [
    "The non-vectorize version took something like 300 times longer than the vectorize version. With this example you see that if only you remember to vectorize your code, your code actually runs over 300 times faster."
   ]
  },
  {
   "cell_type": "markdown",
   "id": "9a4f8001",
   "metadata": {},
   "source": [
    "====================================="
   ]
  },
  {
   "cell_type": "markdown",
   "id": "5586d450",
   "metadata": {},
   "source": [
    "### Broadcasting in python"
   ]
  },
  {
   "cell_type": "code",
   "execution_count": 3,
   "id": "97d5da68",
   "metadata": {},
   "outputs": [
    {
     "name": "stdout",
     "output_type": "stream",
     "text": [
      "[[ 56.    0.    4.4  68. ]\n",
      " [  1.2 104.   52.    8. ]\n",
      " [  1.8 135.   99.    0.9]]\n"
     ]
    }
   ],
   "source": [
    "import numpy as np\n",
    "\n",
    "A = np.array([[56.0,0.0,4.4,68.0],\n",
    "              [1.2,104.0,52.0,8.0],\n",
    "              [1.8,135.0,99.0,0.9]])\n",
    "\n",
    "print(A)"
   ]
  },
  {
   "cell_type": "code",
   "execution_count": 4,
   "id": "83365065",
   "metadata": {},
   "outputs": [
    {
     "name": "stdout",
     "output_type": "stream",
     "text": [
      "[ 59.  239.  155.4  76.9]\n"
     ]
    }
   ],
   "source": [
    "cal = A.sum(axis=0) #sum vertically \n",
    "print(cal)"
   ]
  },
  {
   "cell_type": "code",
   "execution_count": 5,
   "id": "816b19b7",
   "metadata": {},
   "outputs": [
    {
     "name": "stdout",
     "output_type": "stream",
     "text": [
      "[[94.91525424  0.          2.83140283 88.42652796]\n",
      " [ 2.03389831 43.51464435 33.46203346 10.40312094]\n",
      " [ 3.05084746 56.48535565 63.70656371  1.17035111]]\n"
     ]
    }
   ],
   "source": [
    "percentage = 100*(A/cal.reshape(1,4)) \n",
    "#reshape(1,4) means outer dimansion will have 01 array which will have 04 elements of its own \n",
    "print(percentage)"
   ]
  },
  {
   "cell_type": "markdown",
   "id": "ea36be0e",
   "metadata": {},
   "source": [
    "====================================="
   ]
  },
  {
   "cell_type": "markdown",
   "id": "1bd2ea46",
   "metadata": {},
   "source": [
    "### A note on python, numpy vectors"
   ]
  },
  {
   "cell_type": "code",
   "execution_count": 6,
   "id": "8ef97480",
   "metadata": {},
   "outputs": [],
   "source": [
    "import numpy as np\n",
    "\n",
    "a = np.random.randn(5)\n",
    "#created a data structure with shape(5,)\n",
    "#rank one array"
   ]
  },
  {
   "cell_type": "code",
   "execution_count": 7,
   "id": "f953dac0",
   "metadata": {},
   "outputs": [
    {
     "name": "stdout",
     "output_type": "stream",
     "text": [
      "[-0.83677319  0.50970444 -0.3993047  -0.43610008  0.14996609]\n"
     ]
    }
   ],
   "source": [
    "print(a)"
   ]
  },
  {
   "cell_type": "code",
   "execution_count": 8,
   "id": "246fb372",
   "metadata": {},
   "outputs": [
    {
     "name": "stdout",
     "output_type": "stream",
     "text": [
      "(5,)\n"
     ]
    }
   ],
   "source": [
    "print(a.shape) #rank one array in python\n",
    "# neither a row vector nor a column vector\n",
    "#thats why non intuitive\n",
    "#advised not to use it \n",
    "#always use (5,1) or (1,5) type of array "
   ]
  },
  {
   "cell_type": "code",
   "execution_count": 9,
   "id": "531c74d6",
   "metadata": {},
   "outputs": [
    {
     "name": "stdout",
     "output_type": "stream",
     "text": [
      "[-0.83677319  0.50970444 -0.3993047  -0.43610008  0.14996609]\n"
     ]
    }
   ],
   "source": [
    "print(a.T) \n",
    "#this shows that a and a transpose end up looking the same "
   ]
  },
  {
   "cell_type": "code",
   "execution_count": 10,
   "id": "edc931ae",
   "metadata": {},
   "outputs": [
    {
     "name": "stdout",
     "output_type": "stream",
     "text": [
      "1.3321053248028978\n"
     ]
    }
   ],
   "source": [
    "print(np.dot(a,a.T))"
   ]
  },
  {
   "cell_type": "code",
   "execution_count": 11,
   "id": "048ddf57",
   "metadata": {},
   "outputs": [
    {
     "name": "stdout",
     "output_type": "stream",
     "text": [
      "[[ 0.08989067]\n",
      " [ 1.74118737]\n",
      " [-0.28143672]\n",
      " [ 0.3009454 ]\n",
      " [-1.52656571]]\n"
     ]
    }
   ],
   "source": [
    "a = np.random.randn(5,1)\n",
    "print(a)"
   ]
  },
  {
   "cell_type": "code",
   "execution_count": 12,
   "id": "aef15d40",
   "metadata": {},
   "outputs": [
    {
     "name": "stdout",
     "output_type": "stream",
     "text": [
      "[[ 0.08989067  1.74118737 -0.28143672  0.3009454  -1.52656571]]\n"
     ]
    }
   ],
   "source": [
    "print(a.T)"
   ]
  },
  {
   "cell_type": "markdown",
   "id": "1ce18476",
   "metadata": {},
   "source": [
    "there is difference between this a transpose and the previous one that this one has two square brackets "
   ]
  },
  {
   "cell_type": "code",
   "execution_count": 13,
   "id": "86356b1a",
   "metadata": {},
   "outputs": [
    {
     "name": "stdout",
     "output_type": "stream",
     "text": [
      "[[ 0.00808033  0.15651649 -0.02529853  0.02705218 -0.13722401]\n",
      " [ 0.15651649  3.03173345 -0.49003406  0.52400233 -2.65803693]\n",
      " [-0.02529853 -0.49003406  0.07920663 -0.08469709  0.42963164]\n",
      " [ 0.02705218  0.52400233 -0.08469709  0.09056813 -0.45941292]\n",
      " [-0.13722401 -2.65803693  0.42963164 -0.45941292  2.33040286]]\n"
     ]
    }
   ],
   "source": [
    "print(np.dot(a,a.T))"
   ]
  },
  {
   "cell_type": "code",
   "execution_count": 14,
   "id": "4040d9a4",
   "metadata": {},
   "outputs": [],
   "source": [
    "assert(a.shape==(5,1))\n",
    "#to be entirely sure that i have (5,1) vecotr, a column vector \n",
    "#to check that we are actually using this shape and not rank one array "
   ]
  },
  {
   "cell_type": "code",
   "execution_count": 15,
   "id": "29ab8221",
   "metadata": {},
   "outputs": [
    {
     "name": "stdout",
     "output_type": "stream",
     "text": [
      "(5, 1)\n"
     ]
    }
   ],
   "source": [
    "print(a.shape)"
   ]
  },
  {
   "cell_type": "code",
   "execution_count": 16,
   "id": "236db35a",
   "metadata": {},
   "outputs": [],
   "source": [
    "#and suppose we are using rank one array and we want to change it then:\n",
    "a = a. reshape((1,5))"
   ]
  },
  {
   "cell_type": "code",
   "execution_count": 17,
   "id": "276286f5",
   "metadata": {},
   "outputs": [
    {
     "name": "stdout",
     "output_type": "stream",
     "text": [
      "(1, 5)\n"
     ]
    }
   ],
   "source": [
    "print(a.shape)"
   ]
  },
  {
   "cell_type": "markdown",
   "id": "66a1e933",
   "metadata": {},
   "source": [
    "## Assignment"
   ]
  },
  {
   "cell_type": "code",
   "execution_count": 18,
   "id": "f4920987",
   "metadata": {},
   "outputs": [
    {
     "name": "stdout",
     "output_type": "stream",
     "text": [
      "[[ 5  5]\n",
      " [ 5 10]]\n"
     ]
    }
   ],
   "source": [
    "a=np.array([[2,1],[1,3]])\n",
    "x = np.dot(a,a)\n",
    "print(x)"
   ]
  },
  {
   "cell_type": "code",
   "execution_count": 19,
   "id": "eb74ee5a",
   "metadata": {},
   "outputs": [
    {
     "name": "stdout",
     "output_type": "stream",
     "text": [
      "[[ 1.92114793 -1.08947629  0.30869957]\n",
      " [-0.63566524  0.44937907 -2.0689927 ]\n",
      " [ 0.31131315  1.30761511 -0.37763945]]\n",
      "\n",
      "[[-1.30004684]\n",
      " [ 0.02245874]\n",
      " [ 0.56510978]]\n",
      "\n",
      "[[-2.4975823   1.41637021 -0.4013239 ]\n",
      " [-0.01427624  0.01009249 -0.04646697]\n",
      " [ 0.17592611  0.73894609 -0.21340774]]\n"
     ]
    }
   ],
   "source": [
    "a=np.random.randn(3,3)\n",
    "b = np.random.randn(3, 1)\n",
    "b=np.random.randn(3,1)\n",
    "c = a*b\n",
    "print(a)\n",
    "print( )\n",
    "print(b)\n",
    "print( )\n",
    "print(c)"
   ]
  },
  {
   "cell_type": "code",
   "execution_count": 20,
   "id": "792e5478",
   "metadata": {},
   "outputs": [
    {
     "ename": "ValueError",
     "evalue": "operands could not be broadcast together with shapes (4,3) (3,2) ",
     "output_type": "error",
     "traceback": [
      "\u001b[1;31m---------------------------------------------------------------------------\u001b[0m",
      "\u001b[1;31mValueError\u001b[0m                                Traceback (most recent call last)",
      "\u001b[1;32m<ipython-input-20-8497cb6bf5d9>\u001b[0m in \u001b[0;36m<module>\u001b[1;34m\u001b[0m\n\u001b[0;32m      1\u001b[0m \u001b[0ma\u001b[0m\u001b[1;33m=\u001b[0m\u001b[0mnp\u001b[0m\u001b[1;33m.\u001b[0m\u001b[0mrandom\u001b[0m\u001b[1;33m.\u001b[0m\u001b[0mrandn\u001b[0m\u001b[1;33m(\u001b[0m\u001b[1;36m4\u001b[0m\u001b[1;33m,\u001b[0m\u001b[1;36m3\u001b[0m\u001b[1;33m)\u001b[0m\u001b[1;33m\u001b[0m\u001b[1;33m\u001b[0m\u001b[0m\n\u001b[0;32m      2\u001b[0m \u001b[0mb\u001b[0m \u001b[1;33m=\u001b[0m \u001b[0mnp\u001b[0m\u001b[1;33m.\u001b[0m\u001b[0mrandom\u001b[0m\u001b[1;33m.\u001b[0m\u001b[0mrandn\u001b[0m\u001b[1;33m(\u001b[0m\u001b[1;36m3\u001b[0m\u001b[1;33m,\u001b[0m \u001b[1;36m2\u001b[0m\u001b[1;33m)\u001b[0m\u001b[1;33m\u001b[0m\u001b[1;33m\u001b[0m\u001b[0m\n\u001b[1;32m----> 3\u001b[1;33m \u001b[0mc\u001b[0m \u001b[1;33m=\u001b[0m \u001b[0ma\u001b[0m\u001b[1;33m*\u001b[0m\u001b[0mb\u001b[0m\u001b[1;33m\u001b[0m\u001b[1;33m\u001b[0m\u001b[0m\n\u001b[0m",
      "\u001b[1;31mValueError\u001b[0m: operands could not be broadcast together with shapes (4,3) (3,2) "
     ]
    }
   ],
   "source": [
    "a=np.random.randn(4,3)\n",
    "b = np.random.randn(3, 2)\n",
    "c = a*b"
   ]
  },
  {
   "cell_type": "code",
   "execution_count": 21,
   "id": "89f0025b",
   "metadata": {},
   "outputs": [
    {
     "name": "stdout",
     "output_type": "stream",
     "text": [
      "(3, 3)\n"
     ]
    }
   ],
   "source": [
    "a=np.random.randn(1,3) \n",
    "b = np.random.randn(3, 3)\n",
    "c = a*b\n",
    "print(c.shape)"
   ]
  },
  {
   "cell_type": "code",
   "execution_count": 22,
   "id": "fe072a01",
   "metadata": {},
   "outputs": [
    {
     "name": "stdout",
     "output_type": "stream",
     "text": [
      "[[ 5  5]\n",
      " [ 5 10]]\n"
     ]
    }
   ],
   "source": [
    "a=np.array([[2,1],[1,3]])\n",
    "print(np.dot(a,a))"
   ]
  },
  {
   "cell_type": "code",
   "execution_count": 23,
   "id": "8e78bf05",
   "metadata": {},
   "outputs": [
    {
     "ename": "ValueError",
     "evalue": "cannot reshape array of size 4 into shape (4,3)",
     "output_type": "error",
     "traceback": [
      "\u001b[1;31m---------------------------------------------------------------------------\u001b[0m",
      "\u001b[1;31mValueError\u001b[0m                                Traceback (most recent call last)",
      "\u001b[1;32m<ipython-input-23-7ef680407bf5>\u001b[0m in \u001b[0;36m<module>\u001b[1;34m\u001b[0m\n\u001b[1;32m----> 1\u001b[1;33m \u001b[0ma\u001b[0m\u001b[1;33m.\u001b[0m\u001b[0mshape\u001b[0m\u001b[1;33m=\u001b[0m\u001b[1;33m(\u001b[0m\u001b[1;36m4\u001b[0m\u001b[1;33m,\u001b[0m\u001b[1;36m3\u001b[0m\u001b[1;33m)\u001b[0m\u001b[1;33m\u001b[0m\u001b[1;33m\u001b[0m\u001b[0m\n\u001b[0m\u001b[0;32m      2\u001b[0m \u001b[0mb\u001b[0m\u001b[1;33m.\u001b[0m\u001b[0mshape\u001b[0m\u001b[1;33m=\u001b[0m\u001b[1;33m(\u001b[0m\u001b[1;36m4\u001b[0m\u001b[1;33m,\u001b[0m\u001b[1;36m1\u001b[0m\u001b[1;33m)\u001b[0m\u001b[1;33m\u001b[0m\u001b[1;33m\u001b[0m\u001b[0m\n\u001b[0;32m      3\u001b[0m \u001b[1;33m\u001b[0m\u001b[0m\n\u001b[0;32m      4\u001b[0m \u001b[1;32mfor\u001b[0m \u001b[0mi\u001b[0m \u001b[1;32min\u001b[0m \u001b[0mrange\u001b[0m\u001b[1;33m(\u001b[0m\u001b[1;36m3\u001b[0m\u001b[1;33m)\u001b[0m\u001b[1;33m:\u001b[0m\u001b[1;33m\u001b[0m\u001b[1;33m\u001b[0m\u001b[0m\n\u001b[0;32m      5\u001b[0m     \u001b[1;32mfor\u001b[0m \u001b[0mj\u001b[0m \u001b[1;32min\u001b[0m \u001b[0mrange\u001b[0m\u001b[1;33m(\u001b[0m\u001b[1;36m4\u001b[0m\u001b[1;33m)\u001b[0m\u001b[1;33m:\u001b[0m\u001b[1;33m\u001b[0m\u001b[1;33m\u001b[0m\u001b[0m\n",
      "\u001b[1;31mValueError\u001b[0m: cannot reshape array of size 4 into shape (4,3)"
     ]
    }
   ],
   "source": [
    "a.shape=(4,3)\n",
    "b.shape=(4,1)\n",
    "\n",
    "for i in range(3):\n",
    "    for j in range(4):\n",
    "        c[i][j] = a[j][i] + b[j]"
   ]
  },
  {
   "cell_type": "code",
   "execution_count": 24,
   "id": "f099b064",
   "metadata": {},
   "outputs": [
    {
     "name": "stdout",
     "output_type": "stream",
     "text": [
      "(3, 4)\n"
     ]
    }
   ],
   "source": [
    "a=np.random.randn(3,4) # a.shape = (3, 4)a.shape=(3,4)\n",
    "\n",
    "b = np.random.randn(1, 4)\n",
    "c = a + b\n",
    "print(c.shape)"
   ]
  },
  {
   "cell_type": "code",
   "execution_count": 25,
   "id": "19e8347d",
   "metadata": {},
   "outputs": [
    {
     "name": "stdout",
     "output_type": "stream",
     "text": [
      "(3, 3)\n"
     ]
    }
   ],
   "source": [
    "a=np.random.randn(1,3)\n",
    "\n",
    "b = np.random.randn(3, 3)\n",
    "c = a*b\n",
    "print(c.shape)"
   ]
  },
  {
   "cell_type": "code",
   "execution_count": 26,
   "id": "323b66a8",
   "metadata": {},
   "outputs": [
    {
     "name": "stdout",
     "output_type": "stream",
     "text": [
      "[[4 1]\n",
      " [1 9]]\n"
     ]
    }
   ],
   "source": [
    "a=np.array([[2,1],[1,3]])\n",
    "print(a*a)"
   ]
  },
  {
   "cell_type": "code",
   "execution_count": 27,
   "id": "fdd09a64",
   "metadata": {},
   "outputs": [
    {
     "name": "stdout",
     "output_type": "stream",
     "text": [
      "[[1.13341149 1.17813259 1.50873036]\n",
      " [0.34979648 0.1218841  0.0085251 ]\n",
      " [1.92367803 1.38174589 0.69361644]]\n",
      "\n",
      "[[1.13341149 1.17813259 1.50873036]\n",
      " [0.34979648 0.1218841  0.0085251 ]\n",
      " [1.92367803 1.38174589 0.69361644]]\n"
     ]
    }
   ],
   "source": [
    "a=np.random.randn(3,3)\n",
    "b = np.random.randn(3,3)\n",
    "a.shape=(3,3)\n",
    "b.shape = (3, 3)\n",
    "c = a**2 + b.T**2\n",
    "print(c)\n",
    "\n",
    "print( )\n",
    "for i in range(3):\n",
    "     for j in range(3):\n",
    "            c[i][j] = a[i][j]**2 + b[j][i]**2\n",
    "print(c)"
   ]
  }
 ],
 "metadata": {
  "kernelspec": {
   "display_name": "Python 3",
   "language": "python",
   "name": "python3"
  },
  "language_info": {
   "codemirror_mode": {
    "name": "ipython",
    "version": 3
   },
   "file_extension": ".py",
   "mimetype": "text/x-python",
   "name": "python",
   "nbconvert_exporter": "python",
   "pygments_lexer": "ipython3",
   "version": "3.8.8"
  }
 },
 "nbformat": 4,
 "nbformat_minor": 5
}
